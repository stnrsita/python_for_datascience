{
  "nbformat": 4,
  "nbformat_minor": 0,
  "metadata": {
    "colab": {
      "provenance": [],
      "authorship_tag": "ABX9TyP/GXXTPOudirmSdUfNS3OP",
      "include_colab_link": true
    },
    "kernelspec": {
      "name": "python3",
      "display_name": "Python 3"
    },
    "language_info": {
      "name": "python"
    }
  },
  "cells": [
    {
      "cell_type": "markdown",
      "metadata": {
        "id": "view-in-github",
        "colab_type": "text"
      },
      "source": [
        "<a href=\"https://colab.research.google.com/github/stnrsita/python_for_datascience/blob/main/Akulmulasi_Pengeluaran_Budi.ipynb\" target=\"_parent\"><img src=\"https://colab.research.google.com/assets/colab-badge.svg\" alt=\"Open In Colab\"/></a>"
      ]
    },
    {
      "cell_type": "code",
      "execution_count": 15,
      "metadata": {
        "colab": {
          "base_uri": "https://localhost:8080/"
        },
        "id": "YfNzV_8uOVjm",
        "outputId": "f5333e9a-a645-44b4-ebf1-aeb81614bded"
      },
      "outputs": [
        {
          "name": "stdout",
          "output_type": "stream",
          "text": [
            "Masukkan gaji per jam (dalam IDR): 100000\n",
            "Masukkan jam kerja per minggu: 72\n"
          ]
        }
      ],
      "source": [
        "# Meminta input dari user untuk gaji per jam dan jam kerja per minggu\n",
        "gaji_per_jam = int(input(\"Masukkan gaji per jam (dalam IDR): \"))\n",
        "jam_kerja_per_minggu = int(input(\"Masukkan jam kerja per minggu: \"))\n",
        "minggu_kerja = 5  # Total minggu kerja (sudah ditentukan dalam soal)"
      ]
    },
    {
      "cell_type": "code",
      "source": [
        "# 1. Menghitung Pendapatan Budi Selama Libur Musim Panas Sebelum Melakukan Pembayaran Pajak\n",
        "pendapatan_sebelum_pajak = gaji_per_jam * jam_kerja_per_minggu * minggu_kerja\n",
        "print(f\"1. Pendapatan sebelum pajak: Rp{pendapatan_sebelum_pajak}\")"
      ],
      "metadata": {
        "colab": {
          "base_uri": "https://localhost:8080/"
        },
        "id": "mK0gKeGKQBmA",
        "outputId": "8a6fc213-f9ef-44e5-8126-b64054893520"
      },
      "execution_count": 16,
      "outputs": [
        {
          "output_type": "stream",
          "name": "stdout",
          "text": [
            "1. Pendapatan sebelum pajak: Rp36000000\n"
          ]
        }
      ]
    },
    {
      "cell_type": "code",
      "source": [
        "# 2. Menghitung Pendapatan Budi Setelah Melakukan Pembayaran Pajak\n",
        "persentase_pajak = 0.14  # Pajak sebesar 14%\n",
        "pendapatan_setelah_pajak = pendapatan_sebelum_pajak * (1 - persentase_pajak)\n",
        "print(f\"2. Pendapatan setelah pajak: Rp{pendapatan_setelah_pajak}\")"
      ],
      "metadata": {
        "colab": {
          "base_uri": "https://localhost:8080/"
        },
        "id": "CibF7r31QGn0",
        "outputId": "2563456e-3d80-449c-bbc9-38e500ee7135"
      },
      "execution_count": 17,
      "outputs": [
        {
          "output_type": "stream",
          "name": "stdout",
          "text": [
            "2. Pendapatan setelah pajak: Rp30960000.0\n"
          ]
        }
      ]
    },
    {
      "cell_type": "code",
      "source": [
        "# 3. Menghitung Jumlah Uang yang Dihabiskan Budi untuk Membeli Pakaian dan Aksesori\n",
        "persentase_baju_aksesori = 0.10  # 10% dari pendapatan bersih\n",
        "pengeluaran_baju_aksesori = pendapatan_setelah_pajak * persentase_baju_aksesori\n",
        "print(f\"3. Pengeluaran untuk pakaian dan aksesori: Rp{pengeluaran_baju_aksesori}\")"
      ],
      "metadata": {
        "colab": {
          "base_uri": "https://localhost:8080/"
        },
        "id": "1FNdt0FcQKiI",
        "outputId": "f6637808-c878-4863-9e35-b01c0e6c1c77"
      },
      "execution_count": 18,
      "outputs": [
        {
          "output_type": "stream",
          "name": "stdout",
          "text": [
            "3. Pengeluaran untuk pakaian dan aksesori: Rp3096000.0\n"
          ]
        }
      ]
    },
    {
      "cell_type": "code",
      "source": [
        "# 4. Menghitung Jumlah Uang yang Dihabiskan Budi untuk Membeli Alat Tulis\n",
        "persentase_alat_tulis = 0.01  # 1% dari pendapatan bersih\n",
        "pengeluaran_alat_tulis = pendapatan_setelah_pajak * persentase_alat_tulis\n",
        "print(f\"4. Pengeluaran untuk alat tulis: Rp{pengeluaran_alat_tulis}\")"
      ],
      "metadata": {
        "colab": {
          "base_uri": "https://localhost:8080/"
        },
        "id": "ewF2rEmQQMyE",
        "outputId": "685650c9-5583-4f9c-fa4e-89098f405b63"
      },
      "execution_count": 20,
      "outputs": [
        {
          "output_type": "stream",
          "name": "stdout",
          "text": [
            "4. Pengeluaran untuk alat tulis: Rp309600.0\n"
          ]
        }
      ]
    },
    {
      "cell_type": "code",
      "source": [
        "# 5. Menghitung Jumlah Uang yang Akan Budi Sedekahkan\n",
        "# Sisa uang setelah membeli pakaian, aksesori, dan alat tulis\n",
        "sisa_uang = pendapatan_setelah_pajak - pengeluaran_baju_aksesori - pengeluaran_alat_tulis\n",
        "persentase_sedekah = 0.25  # 25% dari sisa uang\n",
        "jumlah_sedekah = sisa_uang * persentase_sedekah\n",
        "print(f\"5. Jumlah uang untuk sedekah: Rp{jumlah_sedekah}\")"
      ],
      "metadata": {
        "colab": {
          "base_uri": "https://localhost:8080/"
        },
        "id": "FLT8D2uJQPhr",
        "outputId": "3decf252-92ab-48e9-e521-c0e59e66a783"
      },
      "execution_count": 21,
      "outputs": [
        {
          "output_type": "stream",
          "name": "stdout",
          "text": [
            "5. Jumlah uang untuk sedekah: Rp6888600.0\n"
          ]
        }
      ]
    },
    {
      "cell_type": "code",
      "source": [
        "# 6. Menghitung Jumlah Uang yang Diterima Anak Yatim\n",
        "persentase_anak_yatim = 0.30  # 30% dari setiap Rp1000 untuk anak yatim\n",
        "jumlah_anak_yatim = jumlah_sedekah * persentase_anak_yatim\n",
        "print(f\"6. Jumlah uang untuk anak yatim: Rp{jumlah_anak_yatim}\")"
      ],
      "metadata": {
        "colab": {
          "base_uri": "https://localhost:8080/"
        },
        "id": "iKHs0vdyQR7z",
        "outputId": "76723a24-3619-4c52-a233-41cece0b9ec8"
      },
      "execution_count": 22,
      "outputs": [
        {
          "output_type": "stream",
          "name": "stdout",
          "text": [
            "6. Jumlah uang untuk anak yatim: Rp2066580.0\n"
          ]
        }
      ]
    },
    {
      "cell_type": "code",
      "source": [
        "# 7. Menghitung Jumlah Uang yang Diterima Kaum Dhuafa\n",
        "persentase_kaum_dhuafa = 0.70  # 70% dari setiap Rp1000 untuk kaum dhuafa\n",
        "jumlah_kaum_dhuafa = jumlah_sedekah * persentase_kaum_dhuafa\n",
        "print(f\"7. Jumlah uang untuk kaum dhuafa: Rp{jumlah_kaum_dhuafa}\")"
      ],
      "metadata": {
        "colab": {
          "base_uri": "https://localhost:8080/"
        },
        "id": "rIXqSZLXQUUX",
        "outputId": "8dc4bb07-e618-4cc5-8396-352460f859d6"
      },
      "execution_count": 23,
      "outputs": [
        {
          "output_type": "stream",
          "name": "stdout",
          "text": [
            "7. Jumlah uang untuk kaum dhuafa: Rp4822020.0\n"
          ]
        }
      ]
    }
  ]
}